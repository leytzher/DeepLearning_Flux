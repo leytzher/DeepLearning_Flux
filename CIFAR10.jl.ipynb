{
 "cells": [
  {
   "cell_type": "code",
   "execution_count": 1,
   "metadata": {},
   "outputs": [
    {
     "data": {
      "text/html": [
       "<style>.container { width:100% !important; }</style>"
      ]
     },
     "metadata": {},
     "output_type": "display_data"
    }
   ],
   "source": [
    "display(\"text/html\", \"<style>.container { width:100% !important; }</style>\")"
   ]
  },
  {
   "cell_type": "code",
   "execution_count": 2,
   "metadata": {},
   "outputs": [
    {
     "name": "stderr",
     "output_type": "stream",
     "text": [
      "Warning: Failed to set locale category LC_NUMERIC to en_BN.\n",
      "Warning: Failed to set locale category LC_TIME to en_BN.\n",
      "Warning: Failed to set locale category LC_COLLATE to en_BN.\n",
      "Warning: Failed to set locale category LC_MONETARY to en_BN.\n",
      "Warning: Failed to set locale category LC_MESSAGES to en_BN.\n"
     ]
    }
   ],
   "source": [
    "using Pkg;\n",
    "using Flux\n",
    "using Images\n",
    "using FileIO\n",
    "using Glob\n",
    "using Mmap\n",
    "using ImageShow\n",
    "using Base.Iterators: partition\n",
    "using Flux: onehotbatch,onecold, crossentropy, throttle\n",
    "using RandomNumbers\n",
    "using Plots\n",
    "using ImageView, Images"
   ]
  },
  {
   "cell_type": "markdown",
   "metadata": {},
   "source": [
    "Read CIFAR10 data.(https://www.cs.toronto.edu/~kriz/cifar-10-binary.tar.gz)\n",
    "Data is given in binary format where the first byte is the label of\n",
    "the first image which is a number between 0 and 9. The next 3072 bytes\n",
    "are the values of the pixels. The first 1024 are R, the next 1024 are G and\n",
    "the last 1024 are B."
   ]
  },
  {
   "cell_type": "code",
   "execution_count": 3,
   "metadata": {},
   "outputs": [
    {
     "data": {
      "text/plain": [
       "loadBatches (generic function with 1 method)"
      ]
     },
     "execution_count": 3,
     "metadata": {},
     "output_type": "execute_result"
    }
   ],
   "source": [
    "function loadBatches(path)\n",
    "    batch = Int.(open(read,path))\n",
    "    labels = [batch[1+(n-1)*3073] for n in 1:1000]\n",
    "    pixels = [reshape(batch[2+(n-1)*3073:3073+(n-1)*3073],(32,32,3)) for n in 1:1000]/255\n",
    "    return (pixels,labels)\n",
    "end"
   ]
  },
  {
   "cell_type": "code",
   "execution_count": 4,
   "metadata": {},
   "outputs": [],
   "source": [
    "# Get file names\n",
    "path = \"./cifar-10-batches-bin/\"\n",
    "trainbatch = readdir(glob\"data_batch_*.bin\",path)\n",
    "testbatch = readdir(glob\"test_batch.bin\",path)\n",
    "\n",
    "\n",
    "# read files and prepare train and test datasets\n",
    "for file in trainbatch\n",
    "    if  file==trainbatch[1]\n",
    "        global X_t, Y_train = loadBatches(file)\n",
    "    else\n",
    "        data = loadBatches(file)\n",
    "        append!(X_t,data[1])\n",
    "        append!(Y_train,data[2])\n",
    "    end\n",
    "end"
   ]
  },
  {
   "cell_type": "code",
   "execution_count": 5,
   "metadata": {},
   "outputs": [
    {
     "data": {
      "text/plain": [
       "10×1000 Flux.OneHotMatrix{Array{Flux.OneHotVector,1}}:\n",
       " false  false  false   true  false  …  false  false  false  false  false\n",
       " false  false  false  false  false     false  false   true  false  false\n",
       " false  false  false  false  false     false  false  false  false  false\n",
       "  true  false  false  false  false      true  false  false   true  false\n",
       " false  false  false  false  false     false  false  false  false  false\n",
       " false  false  false  false  false  …  false  false  false  false  false\n",
       " false  false  false  false   true     false  false  false  false  false\n",
       " false  false  false  false  false     false  false  false  false  false\n",
       " false   true   true  false  false     false   true  false  false   true\n",
       " false  false  false  false  false     false  false  false  false  false"
      ]
     },
     "execution_count": 5,
     "metadata": {},
     "output_type": "execute_result"
    }
   ],
   "source": [
    "# Reshape Xt\n",
    "X_train =[]\n",
    "for i in 1:size(X_t)[1]\n",
    "    append!(X_train,X_t[i])\n",
    "end\n",
    "X_train = Float32.(reshape(X_train,32,32,3,:))\n",
    "\n",
    "X_tt,Y_test = loadBatches(testbatch[1])\n",
    "\n",
    "X_test =[]\n",
    "for i in 1:size(X_tt)[1]\n",
    "    append!(X_test,X_tt[i])\n",
    "end\n",
    "X_test = Float32.(reshape(X_test,32,32,3,:))\n",
    "\n",
    "# One-hot encoding\n",
    "Y_train = onehotbatch(Y_train,0:9)\n",
    "Y_test = onehotbatch(Y_test,0:9)"
   ]
  },
  {
   "cell_type": "code",
   "execution_count": 6,
   "metadata": {},
   "outputs": [
    {
     "data": {
      "text/plain": [
       "32×32 Array{Float32,2}:\n",
       " 0.603922  0.54902   0.54902   0.533333  …  0.686275   0.647059   0.639216 \n",
       " 0.494118  0.568627  0.545098  0.537255     0.611765   0.611765   0.619608 \n",
       " 0.411765  0.490196  0.45098   0.478431     0.603922   0.623529   0.639216 \n",
       " 0.4       0.486275  0.576471  0.517647     0.576471   0.513726   0.568627 \n",
       " 0.490196  0.588235  0.541176  0.592157     0.607843   0.368627   0.168627 \n",
       " 0.607843  0.596078  0.517647  0.709804  …  0.631373   0.4        0.0745098\n",
       " 0.67451   0.682353  0.666667  0.796078     0.627451   0.423529   0.0784314\n",
       " 0.705882  0.698039  0.698039  0.815686     0.654902   0.501961   0.290196 \n",
       " 0.556863  0.52549   0.670588  0.815686     0.647059   0.603922   0.52549  \n",
       " 0.435294  0.431373  0.752941  0.796078     0.596078   0.611765   0.466667 \n",
       " 0.415686  0.521569  0.858824  0.701961  …  0.639216   0.713726   0.431373 \n",
       " 0.427451  0.639216  0.917647  0.662745     0.643137   0.701961   0.388235 \n",
       " 0.482353  0.752941  0.898039  0.643137     0.521569   0.490196   0.239216 \n",
       " ⋮                                       ⋱             ⋮                   \n",
       " 0.454902  0.556863  0.694118  0.717647  …  0.243137   0.137255   0.0235294\n",
       " 0.4       0.376471  0.396078  0.47451      0.2        0.0823529  0.0392157\n",
       " 0.372549  0.388235  0.396078  0.356863     0.172549   0.054902   0.0980392\n",
       " 0.352941  0.372549  0.345098  0.368627     0.152941   0.0431373  0.2      \n",
       " 0.282353  0.34902   0.403922  0.356863     0.168627   0.054902   0.266667 \n",
       " 0.235294  0.313726  0.368627  0.301961  …  0.4        0.231373   0.352941 \n",
       " 0.219608  0.254902  0.254902  0.270588     0.215686   0.192157   0.454902 \n",
       " 0.301961  0.329412  0.32549   0.380392     0.12549    0.211765   0.52549  \n",
       " 0.368627  0.360784  0.352941  0.345098     0.0901961  0.317647   0.54902  \n",
       " 0.356863  0.376471  0.309804  0.298039     0.164706   0.403922   0.560784 \n",
       " 0.341176  0.301961  0.266667  0.25098   …  0.239216   0.482353   0.560784 \n",
       " 0.309804  0.278431  0.262745  0.278431     0.364706   0.513726   0.560784 "
      ]
     },
     "execution_count": 6,
     "metadata": {},
     "output_type": "execute_result"
    }
   ],
   "source": [
    "X_train[:,:,1,2]"
   ]
  },
  {
   "cell_type": "code",
   "execution_count": 7,
   "metadata": {},
   "outputs": [
    {
     "data": {
      "text/plain": [
       "Base.Iterators.PartitionIterator{UnitRange{Int64}}(1:1000, 10)"
      ]
     },
     "execution_count": 7,
     "metadata": {},
     "output_type": "execute_result"
    }
   ],
   "source": [
    "train_idx = partition(1:Int32(length(X_train)/(32*32*3)),10)\n",
    "test_idx = partition(1:Int32(length(X_test)/(32*32*3)),10)"
   ]
  },
  {
   "cell_type": "code",
   "execution_count": 8,
   "metadata": {},
   "outputs": [
    {
     "data": {
      "text/plain": [
       "make_partition_index (generic function with 1 method)"
      ]
     },
     "execution_count": 8,
     "metadata": {},
     "output_type": "execute_result"
    }
   ],
   "source": [
    "function make_partition_index(X,batch_size)\n",
    "    idx = partition(1:Int32(length(X)/(32*32*3)),batch_size)\n",
    "    indices = [(minimum(i),maximum(i)) for i in idx]\n",
    "    return indices\n",
    "end"
   ]
  },
  {
   "cell_type": "code",
   "execution_count": 9,
   "metadata": {},
   "outputs": [
    {
     "data": {
      "text/plain": [
       "make_minibatch (generic function with 1 method)"
      ]
     },
     "execution_count": 9,
     "metadata": {},
     "output_type": "execute_result"
    }
   ],
   "source": [
    "function make_minibatch(X,Y,batch_size)\n",
    "    indices = [i for i in make_partition_index(X,batch_size)]\n",
    "    minibatch_X = [X[:,:,:,indices[i][1]:indices[i][2]] for i in 1:length(indices)]\n",
    "    minibatch_Y = [Y[indices[i][1]:indices[i][2]] for i in 1:length(indices)]\n",
    "    dataset = [(minibatch_X[i],minibatch_Y[i]) for i in 1:length(indices)]   \n",
    "    return dataset\n",
    "end\n"
   ]
  },
  {
   "cell_type": "code",
   "execution_count": 10,
   "metadata": {},
   "outputs": [],
   "source": [
    "train_set = make_minibatch(X_train,Y_train,128);\n",
    "test_set = make_minibatch(X_test,Y_test,1);"
   ]
  },
  {
   "cell_type": "code",
   "execution_count": 11,
   "metadata": {},
   "outputs": [
    {
     "data": {
      "text/plain": [
       "model (generic function with 1 method)"
      ]
     },
     "execution_count": 11,
     "metadata": {},
     "output_type": "execute_result"
    }
   ],
   "source": [
    "# VGG16\n",
    "model() = Chain(\n",
    "    # Size 32x32\n",
    "    Conv((3,3), 3=>64,relu, pad=(1,1), stride=(1,1)),\n",
    "    BatchNorm(64),\n",
    "    Dropout(0.3),\n",
    "    # Size 32x32\n",
    "    Conv((3,3), 64=>64,relu, pad=(1,1), stride=(1,1)),\n",
    "    BatchNorm(64),\n",
    "    # Size 32x32\n",
    "    x -> MaxPool((2,2))(x),\n",
    "    # Size 16x16\n",
    "    Conv((3,3), 64=>128,relu, pad=(1,1), stride=(1,1)),\n",
    "    BatchNorm(128),\n",
    "    Dropout(0.3),\n",
    "    # Size 16x16\n",
    "    Conv((3,3), 128=>128,relu, pad=(1,1), stride=(1,1)),\n",
    "    BatchNorm(128),\n",
    "    x -> MaxPool((2,2))(x),\n",
    "    # Size 8x8\n",
    "    Conv((3,3), 128=>256,relu, pad=(1,1), stride=(1,1)),\n",
    "    BatchNorm(256),\n",
    "    Dropout(0.4),\n",
    "    # Size 8x8\n",
    "    Conv((3,3),256=>256, relu, pad=(1,1), stride=(1,1)),\n",
    "    BatchNorm(256),\n",
    "    Dropout(0.4),\n",
    "    # Size 8x8\n",
    "    Conv((3,3),256=>256, relu, pad=(1,1), stride=(1,1)),\n",
    "    BatchNorm(256),\n",
    "    x -> MaxPool((2,2))(x),\n",
    "    # Size 4x4\n",
    "    Conv((3,3), 256=>512,relu, pad=(1,1), stride=(1,1)),\n",
    "    BatchNorm(512),\n",
    "    Dropout(0.4),\n",
    "    # Size 4x4\n",
    "    Conv((3,3),512=>512, relu, pad=(1,1), stride=(1,1)),\n",
    "    BatchNorm(512),\n",
    "    Dropout(0.4),\n",
    "    # Size 4x4\n",
    "    Conv((3,3),512=>512, relu, pad=(1,1), stride=(1,1)),\n",
    "    BatchNorm(512),\n",
    "    x -> MaxPool((2,2))(x),\n",
    "    # Size 2x2      \n",
    "    x -> reshape(x,:,size(x,4)),\n",
    "    Dense(2048,4096,relu),\n",
    "    Dropout(0.5),\n",
    "    Dense(4096,10),\n",
    "    softmax\n",
    ")\n",
    "    "
   ]
  },
  {
   "cell_type": "code",
   "execution_count": 12,
   "metadata": {},
   "outputs": [
    {
     "data": {
      "text/plain": [
       "Chain(Conv((3, 3), 3=>64, NNlib.relu), BatchNorm(64), Dropout{Float64}(0.3, true), Conv((3, 3), 64=>64, NNlib.relu), BatchNorm(64), getfield(Main, Symbol(\"##17#22\"))(), Conv((3, 3), 64=>128, NNlib.relu), BatchNorm(128), Dropout{Float64}(0.3, true), Conv((3, 3), 128=>128, NNlib.relu), BatchNorm(128), getfield(Main, Symbol(\"##18#23\"))(), Conv((3, 3), 128=>256, NNlib.relu), BatchNorm(256), Dropout{Float64}(0.4, true), Conv((3, 3), 256=>256, NNlib.relu), BatchNorm(256), Dropout{Float64}(0.4, true), Conv((3, 3), 256=>256, NNlib.relu), BatchNorm(256), getfield(Main, Symbol(\"##19#24\"))(), Conv((3, 3), 256=>512, NNlib.relu), BatchNorm(512), Dropout{Float64}(0.4, true), Conv((3, 3), 512=>512, NNlib.relu), BatchNorm(512), Dropout{Float64}(0.4, true), Conv((3, 3), 512=>512, NNlib.relu), BatchNorm(512), getfield(Main, Symbol(\"##20#25\"))(), getfield(Main, Symbol(\"##21#26\"))(), Dense(2048, 4096, NNlib.relu), Dropout{Float64}(0.5, true), Dense(4096, 10), NNlib.softmax)"
      ]
     },
     "execution_count": 12,
     "metadata": {},
     "output_type": "execute_result"
    }
   ],
   "source": [
    "m = model()"
   ]
  },
  {
   "cell_type": "code",
   "execution_count": 13,
   "metadata": {},
   "outputs": [
    {
     "data": {
      "text/plain": [
       "loss (generic function with 1 method)"
      ]
     },
     "execution_count": 13,
     "metadata": {},
     "output_type": "execute_result"
    }
   ],
   "source": [
    "loss(x,y) = crossentropy(m(x),y)"
   ]
  },
  {
   "cell_type": "code",
   "execution_count": 14,
   "metadata": {},
   "outputs": [
    {
     "data": {
      "text/plain": [
       "accuracy (generic function with 1 method)"
      ]
     },
     "execution_count": 14,
     "metadata": {},
     "output_type": "execute_result"
    }
   ],
   "source": [
    "accuracy(x,y) = mean(onecold(m(x),1:10) .== onecold(y,1:10))"
   ]
  },
  {
   "cell_type": "code",
   "execution_count": 15,
   "metadata": {},
   "outputs": [
    {
     "data": {
      "text/plain": [
       "(::getfield(Flux, Symbol(\"#throttled#18\")){getfield(Flux, Symbol(\"##throttled#10#14\")){Bool,Bool,getfield(Main, Symbol(\"##27#28\")),Int64}}) (generic function with 1 method)"
      ]
     },
     "execution_count": 15,
     "metadata": {},
     "output_type": "execute_result"
    }
   ],
   "source": [
    "evalcb = throttle(()-> @show(accuracy(X_test,Y_test)),10)"
   ]
  },
  {
   "cell_type": "code",
   "execution_count": 16,
   "metadata": {},
   "outputs": [
    {
     "data": {
      "text/plain": [
       "ADAM(0.001, (0.9, 0.999), IdDict{Any,Any}())"
      ]
     },
     "execution_count": 16,
     "metadata": {},
     "output_type": "execute_result"
    }
   ],
   "source": [
    "opt = ADAM()"
   ]
  },
  {
   "cell_type": "code",
   "execution_count": 17,
   "metadata": {},
   "outputs": [
    {
     "ename": "DimensionMismatch",
     "evalue": "DimensionMismatch(\"arrays could not be broadcast to a common size\")",
     "output_type": "error",
     "traceback": [
      "DimensionMismatch(\"arrays could not be broadcast to a common size\")",
      "",
      "Stacktrace:",
      " [1] _bcs1 at ./broadcast.jl:438 [inlined]",
      " [2] _bcs at ./broadcast.jl:432 [inlined]",
      " [3] broadcast_shape at ./broadcast.jl:426 [inlined]",
      " [4] combine_axes at ./broadcast.jl:421 [inlined]",
      " [5] _axes at ./broadcast.jl:208 [inlined]",
      " [6] axes at ./broadcast.jl:206 [inlined]",
      " [7] combine_axes at ./broadcast.jl:421 [inlined]",
      " [8] instantiate at ./broadcast.jl:255 [inlined]",
      " [9] materialize at ./broadcast.jl:753 [inlined]",
      " [10] #crossentropy#59(::Int64, ::Function, ::TrackedArray{…,Array{Float32,2}}, ::Array{Bool,1}) at /Users/leytzher/.julia/packages/Flux/qXNjB/src/layers/stateless.jl:8",
      " [11] crossentropy(::TrackedArray{…,Array{Float32,2}}, ::Array{Bool,1}) at /Users/leytzher/.julia/packages/Flux/qXNjB/src/layers/stateless.jl:8",
      " [12] loss(::Array{Float32,4}, ::Array{Bool,1}) at ./In[13]:1",
      " [13] #15 at /Users/leytzher/.julia/packages/Flux/qXNjB/src/optimise/train.jl:72 [inlined]",
      " [14] gradient_(::getfield(Flux.Optimise, Symbol(\"##15#21\")){typeof(loss),Tuple{Array{Float32,4},Array{Bool,1}}}, ::Tracker.Params) at /Users/leytzher/.julia/packages/Tracker/SAr25/src/back.jl:97",
      " [15] #gradient#24(::Bool, ::Function, ::Function, ::Tracker.Params) at /Users/leytzher/.julia/packages/Tracker/SAr25/src/back.jl:164",
      " [16] gradient at /Users/leytzher/.julia/packages/Tracker/SAr25/src/back.jl:164 [inlined]",
      " [17] macro expansion at /Users/leytzher/.julia/packages/Flux/qXNjB/src/optimise/train.jl:71 [inlined]",
      " [18] macro expansion at /Users/leytzher/.julia/packages/Juno/TfNYn/src/progress.jl:133 [inlined]",
      " [19] #train!#12(::getfield(Flux.Optimise, Symbol(\"##16#22\")), ::Function, ::Function, ::Tracker.Params, ::Array{Tuple{Array{Float32,4},Array{Bool,1}},1}, ::ADAM) at /Users/leytzher/.julia/packages/Flux/qXNjB/src/optimise/train.jl:69",
      " [20] train!(::Function, ::Tracker.Params, ::Array{Tuple{Array{Float32,4},Array{Bool,1}},1}, ::ADAM) at /Users/leytzher/.julia/packages/Flux/qXNjB/src/optimise/train.jl:67",
      " [21] top-level scope at In[17]:1"
     ]
    }
   ],
   "source": [
    "Flux.train!(loss, params(m),train_set,opt)"
   ]
  },
  {
   "cell_type": "code",
   "execution_count": 18,
   "metadata": {},
   "outputs": [
    {
     "data": {
      "text/plain": [
       "(40,)"
      ]
     },
     "execution_count": 18,
     "metadata": {},
     "output_type": "execute_result"
    }
   ],
   "source": [
    "size(train_set)"
   ]
  },
  {
   "cell_type": "code",
   "execution_count": 19,
   "metadata": {},
   "outputs": [],
   "source": [
    "# 469-element Array{Tuple{Array{Float32,4},Flux.OneHotMatrix{Array{Flux.OneHotVector,1}}},1}:\n"
   ]
  },
  {
   "cell_type": "code",
   "execution_count": 20,
   "metadata": {},
   "outputs": [
    {
     "data": {
      "text/plain": [
       "Array{Tuple{Array{Float32,4},Array{Bool,1}},1}"
      ]
     },
     "execution_count": 20,
     "metadata": {},
     "output_type": "execute_result"
    }
   ],
   "source": [
    "typeof(train_set)"
   ]
  },
  {
   "cell_type": "code",
   "execution_count": null,
   "metadata": {},
   "outputs": [],
   "source": []
  }
 ],
 "metadata": {
  "kernelspec": {
   "display_name": "Julia 1.1.1",
   "language": "julia",
   "name": "julia-1.1"
  },
  "language_info": {
   "file_extension": ".jl",
   "mimetype": "application/julia",
   "name": "julia",
   "version": "1.1.1"
  }
 },
 "nbformat": 4,
 "nbformat_minor": 2
}
