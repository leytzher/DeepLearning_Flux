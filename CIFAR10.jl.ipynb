{
 "cells": [
  {
   "cell_type": "code",
   "execution_count": 1,
   "metadata": {},
   "outputs": [
    {
     "data": {
      "text/html": [
       "<style>.container { width:100% !important; }</style>"
      ]
     },
     "metadata": {},
     "output_type": "display_data"
    }
   ],
   "source": [
    "display(\"text/html\", \"<style>.container { width:100% !important; }</style>\")"
   ]
  },
  {
   "cell_type": "code",
   "execution_count": 28,
   "metadata": {},
   "outputs": [],
   "source": [
    "using Pkg;\n",
    "using Flux\n",
    "using Images\n",
    "using FileIO\n",
    "using Glob\n",
    "using Mmap\n",
    "using ImageShow\n",
    "using Base.Iterators: partition\n",
    "using Flux: onehotbatch,onecold, crossentropy, throttle\n",
    "using RandomNumbers\n",
    "using Plots\n",
    "using ImageView, Images"
   ]
  },
  {
   "cell_type": "markdown",
   "metadata": {},
   "source": [
    "Read CIFAR10 data.(https://www.cs.toronto.edu/~kriz/cifar-10-binary.tar.gz)\n",
    "Data is given in binary format where the first byte is the label of\n",
    "the first image which is a number between 0 and 9. The next 3072 bytes\n",
    "are the values of the pixels. The first 1024 are R, the next 1024 are G and\n",
    "the last 1024 are B."
   ]
  },
  {
   "cell_type": "code",
   "execution_count": 3,
   "metadata": {},
   "outputs": [
    {
     "data": {
      "text/plain": [
       "loadBatches (generic function with 1 method)"
      ]
     },
     "execution_count": 3,
     "metadata": {},
     "output_type": "execute_result"
    }
   ],
   "source": [
    "function loadBatches(path)\n",
    "    batch = Int.(open(read,path))\n",
    "    labels = [batch[1+(n-1)*3073] for n in 1:1000]\n",
    "    pixels = [reshape(batch[2+(n-1)*3073:3073+(n-1)*3073],(32,32,3)) for n in 1:1000]/255\n",
    "    return (pixels,labels)\n",
    "end"
   ]
  },
  {
   "cell_type": "code",
   "execution_count": 4,
   "metadata": {},
   "outputs": [],
   "source": [
    "# Get file names\n",
    "path = \"./cifar-10-batches-bin/\"\n",
    "trainbatch = readdir(glob\"data_batch_*.bin\",path)\n",
    "testbatch = readdir(glob\"test_batch.bin\",path)\n",
    "\n",
    "\n",
    "# read files and prepare train and test datasets\n",
    "for file in trainbatch\n",
    "    if  file==trainbatch[1]\n",
    "        global X_t, Y_train = loadBatches(file)\n",
    "    else\n",
    "        data = loadBatches(file)\n",
    "        append!(X_t,data[1])\n",
    "        append!(Y_train,data[2])\n",
    "    end\n",
    "end"
   ]
  },
  {
   "cell_type": "code",
   "execution_count": 5,
   "metadata": {},
   "outputs": [
    {
     "data": {
      "text/plain": [
       "10×1000 Flux.OneHotMatrix{Array{Flux.OneHotVector,1}}:\n",
       " false  false  false   true  false  …  false  false  false  false  false\n",
       " false  false  false  false  false     false  false   true  false  false\n",
       " false  false  false  false  false     false  false  false  false  false\n",
       "  true  false  false  false  false      true  false  false   true  false\n",
       " false  false  false  false  false     false  false  false  false  false\n",
       " false  false  false  false  false  …  false  false  false  false  false\n",
       " false  false  false  false   true     false  false  false  false  false\n",
       " false  false  false  false  false     false  false  false  false  false\n",
       " false   true   true  false  false     false   true  false  false   true\n",
       " false  false  false  false  false     false  false  false  false  false"
      ]
     },
     "execution_count": 5,
     "metadata": {},
     "output_type": "execute_result"
    }
   ],
   "source": [
    "# Reshape Xt\n",
    "X_train =[]\n",
    "for i in 1:size(X_t)[1]\n",
    "    append!(X_train,X_t[i])\n",
    "end\n",
    "X_train = Float64.(reshape(X_train,32,32,3,:))\n",
    "\n",
    "X_tt,Y_test = loadBatches(testbatch[1])\n",
    "\n",
    "X_test =[]\n",
    "for i in 1:size(X_tt)[1]\n",
    "    append!(X_test,X_tt[i])\n",
    "end\n",
    "X_test = Float64.(reshape(X_test,32,32,3,:))\n",
    "\n",
    "# One-hot encoding\n",
    "Y_train = onehotbatch(Y_train,0:9)\n",
    "Y_test = onehotbatch(Y_test,0:9)"
   ]
  },
  {
   "cell_type": "code",
   "execution_count": 23,
   "metadata": {},
   "outputs": [
    {
     "data": {
      "text/plain": [
       "32×32 Array{Float64,2}:\n",
       " 0.603922  0.54902   0.54902   0.533333  …  0.686275   0.647059   0.639216 \n",
       " 0.494118  0.568627  0.545098  0.537255     0.611765   0.611765   0.619608 \n",
       " 0.411765  0.490196  0.45098   0.478431     0.603922   0.623529   0.639216 \n",
       " 0.4       0.486275  0.576471  0.517647     0.576471   0.513725   0.568627 \n",
       " 0.490196  0.588235  0.541176  0.592157     0.607843   0.368627   0.168627 \n",
       " 0.607843  0.596078  0.517647  0.709804  …  0.631373   0.4        0.0745098\n",
       " 0.67451   0.682353  0.666667  0.796078     0.627451   0.423529   0.0784314\n",
       " 0.705882  0.698039  0.698039  0.815686     0.654902   0.501961   0.290196 \n",
       " 0.556863  0.52549   0.670588  0.815686     0.647059   0.603922   0.52549  \n",
       " 0.435294  0.431373  0.752941  0.796078     0.596078   0.611765   0.466667 \n",
       " 0.415686  0.521569  0.858824  0.701961  …  0.639216   0.713725   0.431373 \n",
       " 0.427451  0.639216  0.917647  0.662745     0.643137   0.701961   0.388235 \n",
       " 0.482353  0.752941  0.898039  0.643137     0.521569   0.490196   0.239216 \n",
       " ⋮                                       ⋱             ⋮                   \n",
       " 0.454902  0.556863  0.694118  0.717647  …  0.243137   0.137255   0.0235294\n",
       " 0.4       0.376471  0.396078  0.47451      0.2        0.0823529  0.0392157\n",
       " 0.372549  0.388235  0.396078  0.356863     0.172549   0.054902   0.0980392\n",
       " 0.352941  0.372549  0.345098  0.368627     0.152941   0.0431373  0.2      \n",
       " 0.282353  0.34902   0.403922  0.356863     0.168627   0.054902   0.266667 \n",
       " 0.235294  0.313725  0.368627  0.301961  …  0.4        0.231373   0.352941 \n",
       " 0.219608  0.254902  0.254902  0.270588     0.215686   0.192157   0.454902 \n",
       " 0.301961  0.329412  0.32549   0.380392     0.12549    0.211765   0.52549  \n",
       " 0.368627  0.360784  0.352941  0.345098     0.0901961  0.317647   0.54902  \n",
       " 0.356863  0.376471  0.309804  0.298039     0.164706   0.403922   0.560784 \n",
       " 0.341176  0.301961  0.266667  0.25098   …  0.239216   0.482353   0.560784 \n",
       " 0.309804  0.278431  0.262745  0.278431     0.364706   0.513725   0.560784 "
      ]
     },
     "execution_count": 23,
     "metadata": {},
     "output_type": "execute_result"
    }
   ],
   "source": [
    "X_train[:,:,1,2]"
   ]
  },
  {
   "cell_type": "code",
   "execution_count": 43,
   "metadata": {},
   "outputs": [
    {
     "data": {
      "text/plain": [
       "Base.Iterators.PartitionIterator{UnitRange{Int64}}(1:1000, 10)"
      ]
     },
     "execution_count": 43,
     "metadata": {},
     "output_type": "execute_result"
    }
   ],
   "source": [
    "train_idx = partition(1:Int64(length(X_train)/(32*32*3)),10)\n",
    "test_idx = partition(1:Int64(length(X_test)/(32*32*3)),10)"
   ]
  },
  {
   "cell_type": "code",
   "execution_count": 110,
   "metadata": {},
   "outputs": [
    {
     "data": {
      "text/plain": [
       "make_partition_index (generic function with 1 method)"
      ]
     },
     "execution_count": 110,
     "metadata": {},
     "output_type": "execute_result"
    }
   ],
   "source": [
    "function make_partition_index(X,batch_size)\n",
    "    idx = partition(1:Int64(length(X)/(32*32*3)),batch_size)\n",
    "    indices = [(minimum(i),maximum(i)) for i in idx]\n",
    "    return indices\n",
    "end"
   ]
  },
  {
   "cell_type": "code",
   "execution_count": 174,
   "metadata": {},
   "outputs": [
    {
     "data": {
      "text/plain": [
       "make_minibatch (generic function with 1 method)"
      ]
     },
     "execution_count": 174,
     "metadata": {},
     "output_type": "execute_result"
    }
   ],
   "source": [
    "function make_minibatch(X,Y,batch_size)\n",
    "    indices = [i for i in make_partition_index(X,batch_size)]\n",
    "    minibatch_X = [X[:,:,:,indices[i][1]:indices[i][2]] for i in 1:length(indices)]\n",
    "    minibatch_Y = [Y[indices[i][1]:indices[i][2]] for i in 1:length(indices)]\n",
    "    return (minibatch_X,minibatch_Y)\n",
    "end"
   ]
  },
  {
   "cell_type": "code",
   "execution_count": 176,
   "metadata": {},
   "outputs": [],
   "source": [
    "train_set = make_minibatch(X_train,Y_train,128);\n",
    "test_set = make_minibatch(X_test,Y_test,1);"
   ]
  },
  {
   "cell_type": "code",
   "execution_count": null,
   "metadata": {},
   "outputs": [],
   "source": []
  },
  {
   "cell_type": "code",
   "execution_count": null,
   "metadata": {},
   "outputs": [],
   "source": []
  }
 ],
 "metadata": {
  "kernelspec": {
   "display_name": "Julia 1.1.1",
   "language": "julia",
   "name": "julia-1.1"
  },
  "language_info": {
   "file_extension": ".jl",
   "mimetype": "application/julia",
   "name": "julia",
   "version": "1.1.1"
  }
 },
 "nbformat": 4,
 "nbformat_minor": 2
}
